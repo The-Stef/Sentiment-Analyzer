{
  "cells": [
    {
      "cell_type": "code",
      "execution_count": 15,
      "metadata": {
        "colab": {
          "base_uri": "https://localhost:8080/"
        },
        "id": "BSAmLquNp0T5",
        "outputId": "e888ad25-e64f-4d05-d5e6-1c0da62853e6"
      },
      "outputs": [
        {
          "name": "stdout",
          "output_type": "stream",
          "text": [
            "Requirement already satisfied: nltk in /usr/local/lib/python3.11/dist-packages (3.9.1)\n",
            "Requirement already satisfied: click in /usr/local/lib/python3.11/dist-packages (from nltk) (8.2.1)\n",
            "Requirement already satisfied: joblib in /usr/local/lib/python3.11/dist-packages (from nltk) (1.5.1)\n",
            "Requirement already satisfied: regex>=2021.8.3 in /usr/local/lib/python3.11/dist-packages (from nltk) (2024.11.6)\n",
            "Requirement already satisfied: tqdm in /usr/local/lib/python3.11/dist-packages (from nltk) (4.67.1)\n"
          ]
        }
      ],
      "source": [
        "!pip install nltk"
      ]
    },
    {
      "cell_type": "code",
      "execution_count": 25,
      "metadata": {
        "colab": {
          "base_uri": "https://localhost:8080/"
        },
        "id": "omVsiLM0qPfm",
        "outputId": "045d1d80-b0d7-4b14-9eee-b30ef62c5e0a"
      },
      "outputs": [
        {
          "name": "stderr",
          "output_type": "stream",
          "text": [
            "[nltk_data] Downloading package vader_lexicon to /root/nltk_data...\n",
            "[nltk_data]   Package vader_lexicon is already up-to-date!\n"
          ]
        }
      ],
      "source": [
        "# Standard Library\n",
        "from collections import defaultdict\n",
        "from datetime import datetime\n",
        "import logging as logger\n",
        "import ntpath\n",
        "import time\n",
        "import re\n",
        "import os\n",
        "\n",
        "# Third-party\n",
        "from nltk.sentiment.vader import SentimentIntensityAnalyzer\n",
        "import matplotlib.pyplot as plt\n",
        "import numpy as np\n",
        "import nltk\n",
        "\n",
        "# Setup\n",
        "nltk.download('vader_lexicon')\n",
        "%matplotlib inline"
      ]
    },
    {
      "cell_type": "code",
      "execution_count": 52,
      "metadata": {
        "id": "DiORuviDM3CK"
      },
      "outputs": [],
      "source": [
        "# Admin messages - useless for sentiment analysis\n",
        "FILTERS = [\n",
        "      \"<Media omitted>\",\n",
        "      \"changed the settings so only admins can edit the group settings\",\n",
        "      \"changed this group's icon\",\n",
        "      \"changed the group description\",\n",
        "      \"pinned a message\",\n",
        "      \"added\",\n",
        "      \"now an admin\",\n",
        "      \"removed\",\n",
        "      \"no longer an admin\",\n",
        "      \"joined using this group's invite link\",\n",
        "      \"left\",\n",
        "      \"changed this group's settings to allow only admins to send messages to this group\",\n",
        "      \"started a call\",\n",
        "      \"changed this group's settings to allow all members to send messages to this group\",\n",
        "      \"changed the settings so all members can edit the group settings\",\n",
        "      \"created group\",\n",
        "      \"Messages and calls are end-to-end encrypted. Only people in this chat can read, listen to, or share them. Learn more.\",\n",
        "      \"changed their phone number to a new number. Tap to message or add the new number.\",\n",
        "      \"was added\",\n",
        "      \"changed to\",\n",
        "      \"This message was deleted\",\n",
        "      \"This group has over 256 members so now only admins can edit the group settings.\",\n",
        "      \"New members need admin approval to join this group.\",\n",
        "      \"As a member, you can join groups in the community and get admin updatesYour profile is visible to admins\",\n",
        "      \"As a member, you can join groups in the community and get admin updates\",\n",
        "      \"Your profile is visible to admins\",\n",
        "      \"joined from the community\",\n",
        "      \"updated the message timer. New messages will disappear from this chat 7 days after they're sent, except when kept.\",\n",
        "]\n",
        "\n",
        "FILTERS_REGEX = re.compile('|'.join(map(re.escape, FILTERS)))"
      ]
    },
    {
      "cell_type": "code",
      "execution_count": null,
      "metadata": {
        "id": "v_aSXiq-scYB"
      },
      "outputs": [],
      "source": [
        "\"\"\"\n",
        "Validates the chat file line by line.\n",
        "If a line has no timestamp, it's part of a multi-line message.\n",
        "Therefore, the content is modified to act as one message.\n",
        "\n",
        "Args:\n",
        "  filePath (str): The path to the chat logs file, must be an exported .txt file.\n",
        "\n",
        "Returns:\n",
        "  str: The path to the validated file.\n",
        "\"\"\"\n",
        "def data_validation(filePath: str) -> str:\n",
        "  fileName = ntpath.basename(filePath).removesuffix(\".txt\")\n",
        "  date_pattern = re.compile(r'\\b\\d{1,2}/\\d{1,2}/\\d{2}, \\d{2}:\\d{2}\\b')\n",
        "  prev_line = \"\"\n",
        "\n",
        "  with open(filePath, 'r') as f1, open(f\"validated-{fileName}.txt\", 'wb+') as f2:\n",
        "    for line in f1:\n",
        "      if not FILTERS_REGEX.search(line):\n",
        "        # If current line does not start with timestamp, treat it as message continuation\n",
        "        if not date_pattern.search(line):\n",
        "          prev_line = prev_line.rstrip('\\n')\n",
        "          prev_line += ' ' + line\n",
        "        else:\n",
        "          if prev_line:\n",
        "            f2.write(prev_line.encode())\n",
        "          prev_line = line\n",
        "    \n",
        "    # Since no message follows the last one, it has to be written at the end\n",
        "    if prev_line:\n",
        "      f2.write(prev_line.encode())\n",
        "\n",
        "  return os.path.abspath(f\"validated-{fileName}.txt\")"
      ]
    },
    {
      "cell_type": "code",
      "execution_count": 43,
      "metadata": {
        "id": "iIOgvrLPO6R-"
      },
      "outputs": [],
      "source": [
        "\"\"\"\n",
        "Analyzes all messages in a text file to calculate sentiment scores.\n",
        "\n",
        "Args:\n",
        "  filePath (str): The path to the validated chat logs file.\n",
        "\n",
        "Returns:\n",
        "  dict: A dictionary of all chat members and their sentiment scores.\n",
        "\"\"\"\n",
        "def sentiment_analysis(filePath):\n",
        "  members_sentiment = defaultdict(list)\n",
        "  analyzer = SentimentIntensityAnalyzer()\n",
        "\n",
        "  for line in open(filePath, 'r'):\n",
        "    # Get message components\n",
        "    try:\n",
        "      initial_split = line.split(\" - \")\n",
        "      timestamp = datetime.strptime(initial_split[0].replace(\",\", \"\"), \"%m/%d/%y %H:%M\")\n",
        "      content = initial_split[1]\n",
        "      content_split = content.split(\":\")\n",
        "      msg_sender = content_split[0]\n",
        "      msg = content_split[1]\n",
        "    except Exception as e:\n",
        "      print(f\"ERROR LINE: {line}\")\n",
        "      logger.error(e)\n",
        "      break\n",
        "\n",
        "    # Acquire compounded sentiment score\n",
        "    score = analyzer.polarity_scores(msg)[\"compound\"]\n",
        "\n",
        "    if members_sentiment[msg_sender]:\n",
        "      members_sentiment[msg_sender].append((members_sentiment[msg_sender][-1][0] + score, timestamp))\n",
        "    else:\n",
        "      members_sentiment[msg_sender] = [(0.0 + score, timestamp)]\n",
        "\n",
        "  return members_sentiment"
      ]
    },
    {
      "cell_type": "code",
      "execution_count": 20,
      "metadata": {
        "id": "7_q_iT8wUipc"
      },
      "outputs": [],
      "source": [
        "\"\"\"\n",
        "Takes sentiment_analysis()'s resulting dictionary and creates a sentiment chart for each member.\n",
        "Resulting directory can be downloaded.\n",
        "\n",
        "Args:\n",
        "  sentiment_dictionary (dict): A dictionary of all chat members and their sentiment scores.\n",
        "\n",
        "Returns:\n",
        "  None\n",
        "\"\"\"\n",
        "def get_charts(sentiment_dictionary):\n",
        "  os.makedirs(f\"{os.getcwd()}/sentiment_chart_images/\", exist_ok = True)\n",
        "  directory_path = os.path.abspath(\"sentiment_chart_images\")\n",
        "\n",
        "  for group_member in sentiment_dictionary:\n",
        "    y = np.array([score for score, _ in sentiment_dictionary[group_member]])\n",
        "    x = np.array([timestamp for _, timestamp in sentiment_dictionary[group_member]])\n",
        "\n",
        "    plt.plot(x, y)\n",
        "    plt.xlabel(\"Dates\")\n",
        "    plt.ylabel(\"Positivity Score\")\n",
        "    plt.title(f\"{group_member}'s positivity score\")\n",
        "    plt.gcf().autofmt_xdate(rotation = 45)\n",
        "\n",
        "    plt.savefig(f\"{directory_path}/{group_member}-sentiment.png\", bbox_inches='tight')\n",
        "    plt.clf()"
      ]
    },
    {
      "cell_type": "code",
      "execution_count": 36,
      "metadata": {
        "colab": {
          "base_uri": "https://localhost:8080/",
          "height": 35
        },
        "id": "HBW_sZmgHnHY",
        "outputId": "167740e1-942e-4192-b126-3364af22e82c"
      },
      "outputs": [
        {
          "data": {
            "application/vnd.google.colaboratory.intrinsic+json": {
              "type": "string"
            },
            "text/plain": [
              "'/content/validated-chats.txt'"
            ]
          },
          "execution_count": 36,
          "metadata": {},
          "output_type": "execute_result"
        }
      ],
      "source": [
        "test_file = \"/content/chats.txt\"\n",
        "data_validation(test_file)"
      ]
    },
    {
      "cell_type": "code",
      "execution_count": null,
      "metadata": {
        "id": "w-4SjHTuHnPA"
      },
      "outputs": [],
      "source": [
        "validated_file = \"/content/validated-chats.txt\"\n",
        "dictt = sentiment_analysis(validated_file)"
      ]
    },
    {
      "cell_type": "code",
      "execution_count": null,
      "metadata": {
        "id": "IkaFXxVrHnV0"
      },
      "outputs": [],
      "source": [
        "import shutil\n",
        "\n",
        "shutil.make_archive(\"sentiment_chart_images\", 'zip', \"sentiment_chart_images\")"
      ]
    },
    {
      "cell_type": "code",
      "execution_count": 54,
      "metadata": {
        "colab": {
          "base_uri": "https://localhost:8080/"
        },
        "id": "2FP0xs91TO3M",
        "outputId": "9939fdf7-1d9e-4efd-fea0-21fca0efcaae"
      },
      "outputs": [
        {
          "name": "stdout",
          "output_type": "stream",
          "text": [
            " "
          ]
        }
      ],
      "source": [
        "def prun_data_validation(no_times):\n",
        "  for _ in range(no_times):\n",
        "    data_validation(test_file)\n",
        "\n",
        "%prun prun_data_validation(10)"
      ]
    }
  ],
  "metadata": {
    "colab": {
      "provenance": []
    },
    "kernelspec": {
      "display_name": "Python 3",
      "name": "python3"
    },
    "language_info": {
      "name": "python"
    }
  },
  "nbformat": 4,
  "nbformat_minor": 0
}
