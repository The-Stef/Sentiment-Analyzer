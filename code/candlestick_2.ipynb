{
  "nbformat": 4,
  "nbformat_minor": 0,
  "metadata": {
    "colab": {
      "provenance": []
    },
    "kernelspec": {
      "name": "python3",
      "display_name": "Python 3"
    },
    "language_info": {
      "name": "python"
    }
  },
  "cells": [
    {
      "cell_type": "code",
      "execution_count": null,
      "metadata": {
        "id": "BSAmLquNp0T5"
      },
      "outputs": [],
      "source": [
        "!pip install nltk"
      ]
    },
    {
      "cell_type": "code",
      "source": [
        "# Standard Library\n",
        "from collections import defaultdict\n",
        "from datetime import date, datetime\n",
        "from dateutil import parser\n",
        "import logging as logger\n",
        "import ntpath\n",
        "import time\n",
        "import re\n",
        "import os\n",
        "\n",
        "# Third-party\n",
        "from nltk.sentiment.vader import SentimentIntensityAnalyzer\n",
        "import matplotlib.pyplot as plt\n",
        "import numpy as np\n",
        "import nltk\n",
        "\n",
        "# Setup\n",
        "nltk.download('vader_lexicon')\n",
        "%matplotlib inline"
      ],
      "metadata": {
        "id": "omVsiLM0qPfm"
      },
      "execution_count": null,
      "outputs": []
    },
    {
      "cell_type": "code",
      "source": [
        "# Admin messages - useless for sentiment analysis\n",
        "FILTERS = [\n",
        "      \"<Media omitted>\",\n",
        "      \"changed the settings so only admins can edit the group settings\",\n",
        "      \"changed this group's icon\",\n",
        "      \"changed the group description\",\n",
        "      \"pinned a message\",\n",
        "      \"added\",\n",
        "      \"now an admin\",\n",
        "      \"removed\",\n",
        "      \"no longer an admin\",\n",
        "      \"joined using this group's invite link\",\n",
        "      \"left\",\n",
        "      \"changed this group's settings to allow only admins to send messages to this group\",\n",
        "      \"started a call\",\n",
        "      \"changed this group's settings to allow all members to send messages to this group\",\n",
        "      \"changed the settings so all members can edit the group settings\",\n",
        "      \"changed this group's settings to allow only admins to add others to this group\",\n",
        "      \"turned on admin approval to join this group\",\n",
        "      \"created group\",\n",
        "      \"Messages and calls are end-to-end encrypted. Only people in this chat can read, listen to, or share them. Learn more.\",\n",
        "      \"changed their phone number to a new number. Tap to message or add the new number.\",\n",
        "      \"was added\",\n",
        "      \"changed to\",\n",
        "      \"This message was deleted\",\n",
        "      \"This group has over 256 members so now only admins can edit the group settings.\",\n",
        "      \"New members need admin approval to join this group.\",\n",
        "      \"As a member, you can join groups in the community and get admin updatesYour profile is visible to admins\",\n",
        "      \"As a member, you can join groups in the community and get admin updates\",\n",
        "      \"Your profile is visible to admins\",\n",
        "      \"joined from the community\",\n",
        "      \"updated the message timer. New messages will disappear from this chat 7 days after they're sent, except when kept.\",\n",
        "      \"You received a view once message. For added privacy, you can only open it on your phone.\",\n",
        "]\n",
        "\n",
        "FILTERS_REGEX = re.compile('|'.join(map(re.escape, FILTERS)))"
      ],
      "metadata": {
        "id": "DiORuviDM3CK"
      },
      "execution_count": null,
      "outputs": []
    },
    {
      "cell_type": "code",
      "source": [
        "\"\"\"\n",
        "Validates the chat file line by line.\n",
        "If a line has no timestamp, it's part of a multi-line message.\n",
        "Therefore, the content is modified to act as one message.\n",
        "\n",
        "Args:\n",
        "  filePath (str): The path to the chat logs file, must be an exported .txt file.\n",
        "\n",
        "Returns:\n",
        "  str: The path to the validated file.\n",
        "\"\"\"\n",
        "def data_validation(filePath: str) -> str:\n",
        "  fileName = ntpath.basename(filePath).removesuffix(\".txt\")\n",
        "  date_pattern = re.compile(r'\\b\\d{1,2}/\\d{1,2}/\\d{2}, \\d{2}:\\d{2}\\b')\n",
        "  prev_line = \"\"\n",
        "\n",
        "  with open(filePath, 'r') as f1, open(f\"validated-{fileName}.txt\", 'wb+') as f2:\n",
        "    for line in f1:\n",
        "      if not FILTERS_REGEX.search(line):\n",
        "        # If current line does not start with timestamp, treat it as message continuation\n",
        "        if not date_pattern.search(line):\n",
        "          prev_line = prev_line.rstrip('\\n')\n",
        "          prev_line += ' ' + line\n",
        "        else:\n",
        "          if prev_line:\n",
        "            f2.write(prev_line.encode())\n",
        "          prev_line = line\n",
        "\n",
        "    # Since no message follows the last one, it has to be written at the end\n",
        "    if prev_line:\n",
        "      f2.write(prev_line.encode())\n",
        "\n",
        "  return os.path.abspath(f\"validated-{fileName}.txt\")"
      ],
      "metadata": {
        "id": "v_aSXiq-scYB"
      },
      "execution_count": null,
      "outputs": []
    },
    {
      "cell_type": "code",
      "source": [
        "\"\"\"\n",
        "Analyzes all messages in a text file to calculate sentiment scores.\n",
        "\n",
        "Args:\n",
        "  filePath (str): The path to the validated chat logs file.\n",
        "\n",
        "Returns:\n",
        "  dict: A dictionary of all chat members and their sentiment scores.\n",
        "\"\"\"\n",
        "def sentiment_analysis(filePath: str) -> dict:\n",
        "  members_sentiment = defaultdict(list)\n",
        "  members_sentiment_cache = {}\n",
        "  analyzer = SentimentIntensityAnalyzer()\n",
        "\n",
        "  date_pattern = re.compile(r'\\b\\d{1,2}/\\d{1,2}/\\d{2}\\b')\n",
        "  name_pattern = re.compile(r'(?<=- )(.*?)(?=:)')\n",
        "  msg_pattern = re.compile(r'(?<=: )(.*)$')\n",
        "\n",
        "  with open(filePath, 'r') as f:\n",
        "    for line in f:\n",
        "      # Get message components\n",
        "      month, day, year = map(int, date_pattern.search(line).group().split(\"/\"))\n",
        "      timestamp = date(2000 + year, month, day)\n",
        "      msg_sender = name_pattern.search(line).group()\n",
        "      msg = msg_pattern.search(line).group()\n",
        "\n",
        "      # Acquire compounded sentiment score\n",
        "      score = analyzer.polarity_scores(msg)[\"compound\"]\n",
        "\n",
        "      new_sentiment_value = members_sentiment_cache.get(msg_sender, 0.0) + score\n",
        "\n",
        "      members_sentiment[msg_sender].append((new_sentiment_value, timestamp))\n",
        "      members_sentiment_cache[msg_sender] = new_sentiment_value\n",
        "\n",
        "  return members_sentiment"
      ],
      "metadata": {
        "id": "iIOgvrLPO6R-"
      },
      "execution_count": null,
      "outputs": []
    },
    {
      "cell_type": "code",
      "source": [
        "\"\"\"\n",
        "Takes sentiment_analysis()'s resulting dictionary and creates a sentiment chart for each member.\n",
        "Resulting directory can be downloaded.\n",
        "\n",
        "Args:\n",
        "  sentiment_dictionary (dict): A dictionary of all chat members and their sentiment scores.\n",
        "\n",
        "Returns:\n",
        "  None\n",
        "\"\"\"\n",
        "def get_charts(sentiment_dictionary: dict) -> None:\n",
        "  os.makedirs(f\"{os.getcwd()}/sentiment_chart_images/\", exist_ok = True)\n",
        "  directory_path = os.path.abspath(\"sentiment_chart_images\")\n",
        "\n",
        "  for group_member in sentiment_dictionary:\n",
        "    y = np.array([score for score, _ in sentiment_dictionary[group_member]])\n",
        "    x = np.array([timestamp for _, timestamp in sentiment_dictionary[group_member]])\n",
        "\n",
        "    plt.plot(x, y)\n",
        "    plt.xlabel(\"Dates\")\n",
        "    plt.ylabel(\"Positivity Score\")\n",
        "    plt.title(f\"{group_member}'s positivity score\")\n",
        "    plt.gcf().autofmt_xdate(rotation = 45)\n",
        "\n",
        "    plt.savefig(f\"{directory_path}/{group_member}-sentiment.png\", bbox_inches='tight')\n",
        "    plt.close()"
      ],
      "metadata": {
        "id": "7_q_iT8wUipc"
      },
      "execution_count": null,
      "outputs": []
    },
    {
      "cell_type": "markdown",
      "source": [
        "## Using the functions in-code"
      ],
      "metadata": {
        "id": "duMQDjPMUnBp"
      }
    },
    {
      "cell_type": "code",
      "source": [
        "# To validate the WhatsApp text, run the following function. Provide a path to the file you wish to validate.\n",
        "# The result will be a path to the validated file.\n",
        "validated_filee = data_validation(\"/content/data-snippet.txt\")\n",
        "\n",
        "# Use the result from above to generate a dictionary containing users and sentiment scores.\n",
        "sentiment_dict = sentiment_analysis(validated_filee)\n",
        "\n",
        "# Use the dictionary to create sentiment charts for each group member.\n",
        "get_charts(sentiment_dict)"
      ],
      "metadata": {
        "id": "LK2FnlDMZhkt"
      },
      "execution_count": null,
      "outputs": []
    }
  ]
}